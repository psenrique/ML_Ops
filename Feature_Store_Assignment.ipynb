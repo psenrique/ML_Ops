{
 "cells": [
  {
   "cell_type": "code",
   "execution_count": 2,
   "id": "d03b15fd-aff9-45d4-a414-f85dc53e28e9",
   "metadata": {
    "tags": []
   },
   "outputs": [
    {
     "name": "stdout",
     "output_type": "stream",
     "text": [
      "sagemaker.config INFO - Not applying SDK defaults from location: /etc/xdg/sagemaker/config.yaml\n",
      "sagemaker.config INFO - Not applying SDK defaults from location: /root/.config/sagemaker/config.yaml\n"
     ]
    }
   ],
   "source": [
    "import numpy as np\n",
    "import pandas as pd\n",
    "import matplotlib.pyplot as plt\n",
    "import boto3\n",
    "import sagemaker\n",
    "import io\n",
    "from sagemaker.session import Session\n",
    "from sagemaker import get_execution_role"
   ]
  },
  {
   "cell_type": "code",
   "execution_count": 3,
   "id": "d9104bcf-0988-443f-96e4-a1407a19ca5d",
   "metadata": {
    "tags": []
   },
   "outputs": [],
   "source": [
    "import warnings \n",
    "warnings.filterwarnings('ignore') "
   ]
  },
  {
   "cell_type": "code",
   "execution_count": 4,
   "id": "d5df8430-15e6-4f3b-a325-d7caad1ab194",
   "metadata": {},
   "outputs": [],
   "source": [
    "#Import data from S3 bucket\n",
    "\n",
    "bucket = Session().default_bucket()\n",
    "region = boto3.Session().region_name\n",
    "s3_client = boto3.client(\"s3\", region_name=region)\n",
    "\n",
    "Housing_bucket_name = bucket\n",
    "gmaps_data_key = (\n",
    "    \"Housing_Assignment3/csv/housing_gmaps_data_raw.csv\"\n",
    ")\n",
    "housing_data_key = (\n",
    "    \"Housing_Assignment3/csv/housing.csv\"\n",
    ")\n",
    "\n",
    "gmaps_data_object = s3_client.get_object(\n",
    "    Bucket=Housing_bucket_name, Key=gmaps_data_key\n",
    ")\n",
    "housing_data_object = s3_client.get_object(\n",
    "    Bucket=Housing_bucket_name, Key=housing_data_key\n",
    ")\n",
    "\n",
    "gmaps_data = pd.read_csv(io.BytesIO(gmaps_data_object[\"Body\"].read()))\n",
    "housing_data = pd.read_csv(io.BytesIO(housing_data_object[\"Body\"].read()))\n"
   ]
  },
  {
   "cell_type": "code",
   "execution_count": 5,
   "id": "e5c44627-d661-4956-ba6f-58066b5d376b",
   "metadata": {
    "tags": []
   },
   "outputs": [
    {
     "name": "stdout",
     "output_type": "stream",
     "text": [
      "  street_number                   route locality-political  \\\n",
      "0          3130  Grizzly Peak Boulevard           Berkeley   \n",
      "1          2005             Tunnel Road            Oakland   \n",
      "2          6886             Chabot Road            Oakland   \n",
      "3          6365           Florio Street            Oakland   \n",
      "4          5407           Bryant Avenue            Oakland   \n",
      "\n",
      "  administrative_area_level_2-political administrative_area_level_1-political  \\\n",
      "0                        Alameda County                            California   \n",
      "1                        Alameda County                            California   \n",
      "2                        Alameda County                            California   \n",
      "3                        Alameda County                            California   \n",
      "4                        Alameda County                            California   \n",
      "\n",
      "  country-political  postal_code  \\\n",
      "0     United States      94705.0   \n",
      "1     United States      94611.0   \n",
      "2     United States      94618.0   \n",
      "3     United States      94618.0   \n",
      "4     United States      94618.0   \n",
      "\n",
      "                                           address  longitude  latitude  ...  \\\n",
      "0  3130 Grizzly Peak Blvd, Berkeley, CA 94705, USA    -122.23     37.88  ...   \n",
      "1           2005 Tunnel Rd, Oakland, CA 94611, USA    -122.22     37.86  ...   \n",
      "2           6886 Chabot Rd, Oakland, CA 94618, USA    -122.24     37.85  ...   \n",
      "3           6365 Florio St, Oakland, CA 94618, USA    -122.25     37.85  ...   \n",
      "4          5407 Bryant Ave, Oakland, CA 94618, USA    -122.25     37.84  ...   \n",
      "\n",
      "  establishment-natural_feature  airport-establishment-point_of_interest  \\\n",
      "0                           NaN                                      NaN   \n",
      "1                           NaN                                      NaN   \n",
      "2                           NaN                                      NaN   \n",
      "3                           NaN                                      NaN   \n",
      "4                           NaN                                      NaN   \n",
      "\n",
      "  political-sublocality-sublocality_level_1  \\\n",
      "0                                       NaN   \n",
      "1                                       NaN   \n",
      "2                                       NaN   \n",
      "3                                       NaN   \n",
      "4                                       NaN   \n",
      "\n",
      "  administrative_area_level_3-political post_box  \\\n",
      "0                                   NaN      NaN   \n",
      "1                                   NaN      NaN   \n",
      "2                                   NaN      NaN   \n",
      "3                                   NaN      NaN   \n",
      "4                                   NaN      NaN   \n",
      "\n",
      "  establishment-light_rail_station-point_of_interest-transit_station  \\\n",
      "0                                                NaN                   \n",
      "1                                                NaN                   \n",
      "2                                                NaN                   \n",
      "3                                                NaN                   \n",
      "4                                                NaN                   \n",
      "\n",
      "  establishment-point_of_interest  \\\n",
      "0                             NaN   \n",
      "1                             NaN   \n",
      "2                             NaN   \n",
      "3                             NaN   \n",
      "4                             NaN   \n",
      "\n",
      "  aquarium-establishment-park-point_of_interest-tourist_attraction-zoo  \\\n",
      "0                                                NaN                     \n",
      "1                                                NaN                     \n",
      "2                                                NaN                     \n",
      "3                                                NaN                     \n",
      "4                                                NaN                     \n",
      "\n",
      "  campground-establishment-lodging-park-point_of_interest-rv_park-tourist_attraction  \\\n",
      "0                                                NaN                                   \n",
      "1                                                NaN                                   \n",
      "2                                                NaN                                   \n",
      "3                                                NaN                                   \n",
      "4                                                NaN                                   \n",
      "\n",
      "  cemetery-establishment-park-point_of_interest  \n",
      "0                                           NaN  \n",
      "1                                           NaN  \n",
      "2                                           NaN  \n",
      "3                                           NaN  \n",
      "4                                           NaN  \n",
      "\n",
      "[5 rows x 30 columns]\n"
     ]
    }
   ],
   "source": [
    "#View first couple of rows from both datasets\n",
    "print(gmaps_data.head())"
   ]
  },
  {
   "cell_type": "code",
   "execution_count": 6,
   "id": "3470940a-8b33-41e5-bf69-5cc46b02c26b",
   "metadata": {
    "tags": []
   },
   "outputs": [
    {
     "name": "stdout",
     "output_type": "stream",
     "text": [
      "   longitude  latitude  housing_median_age  total_rooms  total_bedrooms  \\\n",
      "0    -122.23     37.88                41.0        880.0           129.0   \n",
      "1    -122.22     37.86                21.0       7099.0          1106.0   \n",
      "2    -122.24     37.85                52.0       1467.0           190.0   \n",
      "3    -122.25     37.85                52.0       1274.0           235.0   \n",
      "4    -122.25     37.85                52.0       1627.0           280.0   \n",
      "\n",
      "   population  households  median_income  median_house_value ocean_proximity  \n",
      "0       322.0       126.0         8.3252            452600.0        NEAR BAY  \n",
      "1      2401.0      1138.0         8.3014            358500.0        NEAR BAY  \n",
      "2       496.0       177.0         7.2574            352100.0        NEAR BAY  \n",
      "3       558.0       219.0         5.6431            341300.0        NEAR BAY  \n",
      "4       565.0       259.0         3.8462            342200.0        NEAR BAY  \n"
     ]
    }
   ],
   "source": [
    "print(housing_data.head())"
   ]
  },
  {
   "cell_type": "code",
   "execution_count": 7,
   "id": "cbda1809-5099-4cbc-bf73-25231fb1f825",
   "metadata": {
    "tags": []
   },
   "outputs": [
    {
     "name": "stdout",
     "output_type": "stream",
     "text": [
      "sagemaker-us-east-1-385225481548\n"
     ]
    }
   ],
   "source": [
    "#Setup SageMaker Feature Store \n",
    "boto_session = boto3.Session(region_name=region)\n",
    "\n",
    "sagemaker_client = boto_session.client(service_name=\"sagemaker\", region_name=region)\n",
    "featurestore_runtime = boto_session.client(\n",
    "    service_name=\"sagemaker-featurestore-runtime\", region_name=region\n",
    ")\n",
    "\n",
    "feature_store_session = Session(\n",
    "    boto_session=boto_session,\n",
    "    sagemaker_client=sagemaker_client,\n",
    "    sagemaker_featurestore_runtime_client=featurestore_runtime,\n",
    ")\n",
    "\n",
    "default_s3_bucket_name = feature_store_session.default_bucket()\n",
    "prefix = \"sagemaker-featurestore-demo\"\n",
    "\n",
    "print(default_s3_bucket_name)"
   ]
  },
  {
   "cell_type": "code",
   "execution_count": 8,
   "id": "45c2dcfb-3cc4-42a0-aff1-d976a45711ea",
   "metadata": {
    "tags": []
   },
   "outputs": [
    {
     "name": "stdout",
     "output_type": "stream",
     "text": [
      "arn:aws:iam::385225481548:role/LabRole\n"
     ]
    }
   ],
   "source": [
    "#Setup IAM role\n",
    "role = get_execution_role()\n",
    "print(role)"
   ]
  },
  {
   "cell_type": "code",
   "execution_count": 9,
   "id": "01f87509-2efa-4537-8abf-37f9a45f193a",
   "metadata": {
    "tags": []
   },
   "outputs": [
    {
     "name": "stdout",
     "output_type": "stream",
     "text": [
      "      neighborhood ocean_proximity  median_house_value  housing_median_age  \\\n",
      "0              NaN        NEAR BAY            452600.0                41.0   \n",
      "1       Merriewood        NEAR BAY            358500.0                21.0   \n",
      "2  Upper Rockridge        NEAR BAY            352100.0                52.0   \n",
      "3        Rockridge        NEAR BAY            341300.0                52.0   \n",
      "4        Rockridge        NEAR BAY            342200.0                52.0   \n",
      "\n",
      "   households  total_bedrooms  postal_code locality-political  \n",
      "0       126.0           129.0      94705.0           Berkeley  \n",
      "1      1138.0          1106.0      94611.0            Oakland  \n",
      "2       177.0           190.0      94618.0            Oakland  \n",
      "3       219.0           235.0      94618.0            Oakland  \n",
      "4       259.0           280.0      94618.0            Oakland  \n"
     ]
    }
   ],
   "source": [
    "#Merge datasets for data cleaning and select columns used for the feature group and \n",
    "#rename columns\n",
    "df_total = pd.merge(housing_data, gmaps_data, on=('longitude','latitude'))\n",
    "df = df_total[['neighborhood-political','ocean_proximity','median_house_value',\n",
    "               'housing_median_age','households','total_bedrooms','postal_code',\n",
    "               'locality-political']]\n",
    "df.rename(columns = {'neighborhood-political':'neighborhood'}, inplace = True)\n",
    "print(df.head())"
   ]
  },
  {
   "cell_type": "code",
   "execution_count": 10,
   "id": "82e61dc3-ef32-4da8-bc60-ab0934e20443",
   "metadata": {
    "tags": []
   },
   "outputs": [
    {
     "data": {
      "text/plain": [
       "neighborhood           True\n",
       "ocean_proximity       False\n",
       "median_house_value    False\n",
       "housing_median_age    False\n",
       "households            False\n",
       "total_bedrooms         True\n",
       "postal_code            True\n",
       "locality-political     True\n",
       "dtype: bool"
      ]
     },
     "execution_count": 10,
     "metadata": {},
     "output_type": "execute_result"
    }
   ],
   "source": [
    "#Identify columns with Nan values\n",
    "df.isna().any()"
   ]
  },
  {
   "cell_type": "code",
   "execution_count": 11,
   "id": "ffbccc96-3754-4e26-873d-f99fc292f2c6",
   "metadata": {
    "tags": []
   },
   "outputs": [],
   "source": [
    "#Fill neighborhood missing values from locality\n",
    "df['neighborhood'] = df['neighborhood'].fillna(df['locality-political'])\n",
    "df = df.dropna(subset = ['neighborhood']).reset_index()"
   ]
  },
  {
   "cell_type": "code",
   "execution_count": 12,
   "id": "f4d17521-b4a8-4c03-9826-47a685503de4",
   "metadata": {
    "tags": []
   },
   "outputs": [],
   "source": [
    "#Encode ocean distance \n",
    "encoded_ocean = pd.get_dummies(df['ocean_proximity'])\n",
    "df = pd.concat([df, encoded_ocean], axis=1)\n",
    "df = df.drop(['ocean_proximity'], axis=1)\n",
    "df.rename(columns = {'<1H OCEAN':'1H_OCEAN','NEAR BAY':'NEAR_BAY',\n",
    "                     'NEAR OCEAN':'NEAR_OCEAN'}, inplace = True)\n",
    "df.replace({False: 0, True: 1}, inplace=True)"
   ]
  },
  {
   "cell_type": "code",
   "execution_count": 13,
   "id": "1060588b-3a6d-4379-b34e-9c4ed8c8eb1c",
   "metadata": {
    "tags": []
   },
   "outputs": [],
   "source": [
    "#Average median house value across all records for a neighborhood\n",
    "MedHouseVal = df.groupby(['neighborhood'])['median_house_value'].median()\n",
    "MedHouseVal.where(MedHouseVal < 500000, 500000, inplace = True)\n",
    "\n",
    "for i in range(0,len(df.index)):\n",
    "    df['median_house_value'][i] = MedHouseVal[df['neighborhood'][i]]"
   ]
  },
  {
   "cell_type": "code",
   "execution_count": 14,
   "id": "0dff4ead-cc75-4f01-8d8b-7a666b03b6d6",
   "metadata": {
    "tags": []
   },
   "outputs": [
    {
     "name": "stdout",
     "output_type": "stream",
     "text": [
      "52.0\n"
     ]
    }
   ],
   "source": [
    "#Average median house age across all records for a neighborhood\n",
    "MedHouseAge = df.groupby(['neighborhood'])['housing_median_age'].median()\n",
    "print(MedHouseAge.max())"
   ]
  },
  {
   "cell_type": "code",
   "execution_count": 15,
   "id": "8aa5d8e6-f5a0-47f0-b216-0ae4e7cbc342",
   "metadata": {
    "tags": []
   },
   "outputs": [],
   "source": [
    "dis_MedHouseAge = pd.cut(x=MedHouseAge, bins=[0, 9, 19, 29, 39, 49, 59],\n",
    "                    labels=['0-9','10-19','20-29','30-39','40-49', '50-59'])\n",
    "\n",
    "for i in range(0,len(df.index)):\n",
    "    df['housing_median_age'][i] = dis_MedHouseAge[df['neighborhood'][i]]"
   ]
  },
  {
   "cell_type": "code",
   "execution_count": 16,
   "id": "b76779f4-1695-45c3-b9a7-c38a06266d93",
   "metadata": {
    "tags": []
   },
   "outputs": [],
   "source": [
    "#Average household value across all records for a neighborhood\n",
    "AvgHouse = df.groupby(['neighborhood'])['households'].mean()\n",
    "RoundAvgHouse = np.ceil(AvgHouse)\n",
    "\n",
    "for i in range(0,len(df.index)):\n",
    "    df['households'][i] = RoundAvgHouse[df['neighborhood'][i]]"
   ]
  },
  {
   "cell_type": "code",
   "execution_count": 17,
   "id": "32f41d71-c8ca-4906-b9d7-599dcd3b4797",
   "metadata": {
    "tags": []
   },
   "outputs": [],
   "source": [
    "#Add the bedrooms per household \n",
    "df['bedrooms_per_household'] = np.nan\n",
    "for i in range(0,len(df.index)):\n",
    "    df['bedrooms_per_household'][i] = df['total_bedrooms'][i]/df['households'][i]\n",
    "    \n",
    "AvgBedPerHouse = df.groupby(['postal_code'])\n",
    "df['bedrooms_per_household'] = AvgBedPerHouse['bedrooms_per_household'].transform(\n",
    "    lambda x: x.fillna(x.mean()))"
   ]
  },
  {
   "cell_type": "code",
   "execution_count": 18,
   "id": "3754010a-a5b1-4b9a-9da0-9cbedcef53a3",
   "metadata": {
    "tags": []
   },
   "outputs": [],
   "source": [
    "#Encode locality-political value without one hot encoding to prevent large number \n",
    "# of columns\n",
    "df['locality-political']=df['locality-political'].astype('category').cat.codes"
   ]
  },
  {
   "cell_type": "code",
   "execution_count": 19,
   "id": "97cd46e6-6a78-427a-b03f-8ada59c4a00b",
   "metadata": {},
   "outputs": [],
   "source": [
    "#Create Feature Groups\n",
    "from time import gmtime, strftime, sleep\n",
    "from sagemaker.feature_store.feature_group import FeatureGroup\n",
    "\n",
    "house_feature_group_name = \"house-feature-group-\" + strftime(\"%d-%H-%M-%S\", gmtime())\n",
    "\n",
    "house_feature_group = FeatureGroup(\n",
    "    name=house_feature_group_name, sagemaker_session=feature_store_session\n",
    ")"
   ]
  },
  {
   "cell_type": "code",
   "execution_count": null,
   "id": "b2a81605-a6c5-4ac2-b1c1-0dd3fc2c5faa",
   "metadata": {
    "tags": []
   },
   "outputs": [],
   "source": [
    "import time\n",
    "\n",
    "current_time_sec = int(round(time.time()))\n",
    "\n",
    "\n",
    "def cast_object_to_string(data_frame):\n",
    "    for label in data_frame.columns:\n",
    "        if data_frame.dtypes[label] == \"object\":\n",
    "            data_frame[label] = data_frame[label].astype(\"str\").astype(\"string\")\n",
    "\n",
    "\n",
    "# cast object dtype to string. The SageMaker FeatureStore Python SDK will then \n",
    "#map the string dtype to String feature type.\n",
    "cast_object_to_string(df)\n",
    "\n",
    "# record identifier and event time feature names\n",
    "record_identifier_feature_name = \"neighborhood\"\n",
    "event_time_feature_name = \"EventTime\"\n",
    "\n",
    "# append EventTime feature\n",
    "df[event_time_feature_name] = pd.Series(\n",
    "    [current_time_sec] * len(df), dtype=\"float64\"\n",
    ")\n",
    "\n",
    "# load feature definitions to the feature group\n",
    "house_feature_group.load_feature_definitions(data_frame=df)\n",
    "# output is suppressed"
   ]
  },
  {
   "cell_type": "code",
   "execution_count": 21,
   "id": "662a8357-6191-4305-a56c-cc1bb940aeda",
   "metadata": {
    "tags": []
   },
   "outputs": [
    {
     "name": "stdout",
     "output_type": "stream",
     "text": [
      "Waiting for Feature Group Creation\n",
      "Waiting for Feature Group Creation\n",
      "Waiting for Feature Group Creation\n",
      "Waiting for Feature Group Creation\n",
      "Waiting for Feature Group Creation\n",
      "Waiting for Feature Group Creation\n",
      "Waiting for Feature Group Creation\n",
      "Waiting for Feature Group Creation\n",
      "FeatureGroup house-feature-group-29-20-00-28 successfully created.\n"
     ]
    }
   ],
   "source": [
    "def wait_for_feature_group_creation_complete(feature_group):\n",
    "    status = feature_group.describe().get(\"FeatureGroupStatus\")\n",
    "    while status == \"Creating\":\n",
    "        print(\"Waiting for Feature Group Creation\")\n",
    "        time.sleep(5)\n",
    "        status = feature_group.describe().get(\"FeatureGroupStatus\")\n",
    "    if status != \"Created\":\n",
    "        raise RuntimeError(f\"Failed to create feature group {feature_group.name}\")\n",
    "    print(f\"FeatureGroup {feature_group.name} successfully created.\")\n",
    "\n",
    "\n",
    "house_feature_group.create(\n",
    "    s3_uri=f\"s3://{default_s3_bucket_name}/{prefix}\",\n",
    "    record_identifier_name=record_identifier_feature_name,\n",
    "    event_time_feature_name=event_time_feature_name,\n",
    "    role_arn=role,\n",
    "    enable_online_store=True,\n",
    ")\n",
    "\n",
    "wait_for_feature_group_creation_complete(feature_group=house_feature_group)"
   ]
  },
  {
   "cell_type": "code",
   "execution_count": null,
   "id": "d11fe68d-17d8-42db-b7d5-c32cd299c72c",
   "metadata": {},
   "outputs": [],
   "source": [
    "print(house_feature_group.describe())\n",
    "# output is suppressed"
   ]
  },
  {
   "cell_type": "code",
   "execution_count": null,
   "id": "bc0a381e-4524-4ec8-ba8e-2b9d28231bda",
   "metadata": {
    "tags": []
   },
   "outputs": [],
   "source": [
    "print(sagemaker_client.list_feature_groups())\n",
    "# output is suppressed"
   ]
  },
  {
   "cell_type": "code",
   "execution_count": null,
   "id": "985f6e4d-37c8-43fd-bb2c-c03975e2fea9",
   "metadata": {
    "tags": []
   },
   "outputs": [],
   "source": [
    "#Put records into Feature Group\n",
    "house_feature_group.ingest(data_frame=df, max_workers=3, wait=True)\n",
    "# output is suppressed"
   ]
  },
  {
   "cell_type": "code",
   "execution_count": 25,
   "id": "4d185432-3811-4dda-8c2c-d8183f1e6b02",
   "metadata": {
    "tags": []
   },
   "outputs": [
    {
     "data": {
      "text/plain": [
       "{'ResponseMetadata': {'RequestId': '67c70fdc-5694-44ee-b540-192e94566caf',\n",
       "  'HTTPStatusCode': 200,\n",
       "  'HTTPHeaders': {'x-amzn-requestid': '67c70fdc-5694-44ee-b540-192e94566caf',\n",
       "   'content-type': 'application/json',\n",
       "   'content-length': '1148',\n",
       "   'date': 'Wed, 29 May 2024 20:02:56 GMT'},\n",
       "  'RetryAttempts': 0},\n",
       " 'Record': [{'FeatureName': 'index', 'ValueAsString': '17825'},\n",
       "  {'FeatureName': 'neighborhood', 'ValueAsString': 'Brooktree'},\n",
       "  {'FeatureName': 'median_house_value', 'ValueAsString': '257400.0'},\n",
       "  {'FeatureName': 'housing_median_age', 'ValueAsString': '0-9'},\n",
       "  {'FeatureName': 'households', 'ValueAsString': '1438.0'},\n",
       "  {'FeatureName': 'postal_code', 'ValueAsString': '95131.0'},\n",
       "  {'FeatureName': 'locality-political', 'ValueAsString': '787'},\n",
       "  {'FeatureName': '1H_OCEAN', 'ValueAsString': '1'},\n",
       "  {'FeatureName': 'INLAND', 'ValueAsString': '0'},\n",
       "  {'FeatureName': 'ISLAND', 'ValueAsString': '0'},\n",
       "  {'FeatureName': 'NEAR_BAY', 'ValueAsString': '0'},\n",
       "  {'FeatureName': 'NEAR_OCEAN', 'ValueAsString': '0'},\n",
       "  {'FeatureName': 'bedrooms_per_household',\n",
       "   'ValueAsString': '1.0683411300427723'},\n",
       "  {'FeatureName': 'EventTime', 'ValueAsString': '1717012828.0'}]}"
      ]
     },
     "execution_count": 25,
     "metadata": {},
     "output_type": "execute_result"
    }
   ],
   "source": [
    "featurestore_runtime.get_record(\n",
    "    FeatureGroupName=house_feature_group_name,\n",
    "    RecordIdentifierValueAsString='Brooktree',\n",
    ")"
   ]
  },
  {
   "cell_type": "code",
   "execution_count": 26,
   "id": "d07450bd-0194-4846-a285-f9b6a6118dca",
   "metadata": {
    "tags": []
   },
   "outputs": [
    {
     "data": {
      "text/plain": [
       "{'ResponseMetadata': {'RequestId': '33ea43dd-da5a-403f-b3d2-12f705369a69',\n",
       "  'HTTPStatusCode': 200,\n",
       "  'HTTPHeaders': {'x-amzn-requestid': '33ea43dd-da5a-403f-b3d2-12f705369a69',\n",
       "   'content-type': 'application/json',\n",
       "   'content-length': '1226',\n",
       "   'date': 'Wed, 29 May 2024 20:02:56 GMT'},\n",
       "  'RetryAttempts': 0},\n",
       " 'Record': [{'FeatureName': 'index', 'ValueAsString': '15616'},\n",
       "  {'FeatureName': 'neighborhood', 'ValueAsString': \"Fisherman's Wharf\"},\n",
       "  {'FeatureName': 'median_house_value', 'ValueAsString': '500000.0'},\n",
       "  {'FeatureName': 'housing_median_age', 'ValueAsString': '50-59'},\n",
       "  {'FeatureName': 'households', 'ValueAsString': '250.0'},\n",
       "  {'FeatureName': 'total_bedrooms', 'ValueAsString': '317.0'},\n",
       "  {'FeatureName': 'postal_code', 'ValueAsString': '94133.0'},\n",
       "  {'FeatureName': 'locality-political', 'ValueAsString': '781'},\n",
       "  {'FeatureName': '1H_OCEAN', 'ValueAsString': '0'},\n",
       "  {'FeatureName': 'INLAND', 'ValueAsString': '0'},\n",
       "  {'FeatureName': 'ISLAND', 'ValueAsString': '0'},\n",
       "  {'FeatureName': 'NEAR_BAY', 'ValueAsString': '1'},\n",
       "  {'FeatureName': 'NEAR_OCEAN', 'ValueAsString': '0'},\n",
       "  {'FeatureName': 'bedrooms_per_household', 'ValueAsString': '1.268'},\n",
       "  {'FeatureName': 'EventTime', 'ValueAsString': '1717012828.0'}]}"
      ]
     },
     "execution_count": 26,
     "metadata": {},
     "output_type": "execute_result"
    }
   ],
   "source": [
    "featurestore_runtime.get_record(\n",
    "    FeatureGroupName=house_feature_group_name,\n",
    "    RecordIdentifierValueAsString=\"Fisherman's Wharf\",\n",
    ")"
   ]
  },
  {
   "cell_type": "code",
   "execution_count": 27,
   "id": "80ec7307-bffc-4145-9468-506402281e6d",
   "metadata": {
    "tags": []
   },
   "outputs": [
    {
     "data": {
      "text/plain": [
       "{'ResponseMetadata': {'RequestId': '5a247d33-d8c0-45f6-acdc-87381e0ebd71',\n",
       "  'HTTPStatusCode': 200,\n",
       "  'HTTPHeaders': {'x-amzn-requestid': '5a247d33-d8c0-45f6-acdc-87381e0ebd71',\n",
       "   'content-type': 'application/json',\n",
       "   'content-length': '1228',\n",
       "   'date': 'Wed, 29 May 2024 20:02:56 GMT'},\n",
       "  'RetryAttempts': 0},\n",
       " 'Record': [{'FeatureName': 'index', 'ValueAsString': '16636'},\n",
       "  {'FeatureName': 'neighborhood', 'ValueAsString': 'Los Osos'},\n",
       "  {'FeatureName': 'median_house_value', 'ValueAsString': '194400.0'},\n",
       "  {'FeatureName': 'housing_median_age', 'ValueAsString': '10-19'},\n",
       "  {'FeatureName': 'households', 'ValueAsString': '612.0'},\n",
       "  {'FeatureName': 'total_bedrooms', 'ValueAsString': '699.0'},\n",
       "  {'FeatureName': 'postal_code', 'ValueAsString': '93402.0'},\n",
       "  {'FeatureName': 'locality-political', 'ValueAsString': '55'},\n",
       "  {'FeatureName': '1H_OCEAN', 'ValueAsString': '0'},\n",
       "  {'FeatureName': 'INLAND', 'ValueAsString': '0'},\n",
       "  {'FeatureName': 'ISLAND', 'ValueAsString': '0'},\n",
       "  {'FeatureName': 'NEAR_BAY', 'ValueAsString': '0'},\n",
       "  {'FeatureName': 'NEAR_OCEAN', 'ValueAsString': '1'},\n",
       "  {'FeatureName': 'bedrooms_per_household',\n",
       "   'ValueAsString': '1.142156862745098'},\n",
       "  {'FeatureName': 'EventTime', 'ValueAsString': '1717012828.0'}]}"
      ]
     },
     "execution_count": 27,
     "metadata": {},
     "output_type": "execute_result"
    }
   ],
   "source": [
    "featurestore_runtime.get_record(\n",
    "    FeatureGroupName=house_feature_group_name,\n",
    "    RecordIdentifierValueAsString='Los Osos',\n",
    ")"
   ]
  },
  {
   "cell_type": "code",
   "execution_count": null,
   "id": "a7298d51-d4ce-47ca-9d2d-bc9f275418d9",
   "metadata": {},
   "outputs": [],
   "source": []
  }
 ],
 "metadata": {
  "availableInstances": [
   {
    "_defaultOrder": 0,
    "_isFastLaunch": true,
    "category": "General purpose",
    "gpuNum": 0,
    "hideHardwareSpecs": false,
    "memoryGiB": 4,
    "name": "ml.t3.medium",
    "vcpuNum": 2
   },
   {
    "_defaultOrder": 1,
    "_isFastLaunch": false,
    "category": "General purpose",
    "gpuNum": 0,
    "hideHardwareSpecs": false,
    "memoryGiB": 8,
    "name": "ml.t3.large",
    "vcpuNum": 2
   },
   {
    "_defaultOrder": 2,
    "_isFastLaunch": false,
    "category": "General purpose",
    "gpuNum": 0,
    "hideHardwareSpecs": false,
    "memoryGiB": 16,
    "name": "ml.t3.xlarge",
    "vcpuNum": 4
   },
   {
    "_defaultOrder": 3,
    "_isFastLaunch": false,
    "category": "General purpose",
    "gpuNum": 0,
    "hideHardwareSpecs": false,
    "memoryGiB": 32,
    "name": "ml.t3.2xlarge",
    "vcpuNum": 8
   },
   {
    "_defaultOrder": 4,
    "_isFastLaunch": true,
    "category": "General purpose",
    "gpuNum": 0,
    "hideHardwareSpecs": false,
    "memoryGiB": 8,
    "name": "ml.m5.large",
    "vcpuNum": 2
   },
   {
    "_defaultOrder": 5,
    "_isFastLaunch": false,
    "category": "General purpose",
    "gpuNum": 0,
    "hideHardwareSpecs": false,
    "memoryGiB": 16,
    "name": "ml.m5.xlarge",
    "vcpuNum": 4
   },
   {
    "_defaultOrder": 6,
    "_isFastLaunch": false,
    "category": "General purpose",
    "gpuNum": 0,
    "hideHardwareSpecs": false,
    "memoryGiB": 32,
    "name": "ml.m5.2xlarge",
    "vcpuNum": 8
   },
   {
    "_defaultOrder": 7,
    "_isFastLaunch": false,
    "category": "General purpose",
    "gpuNum": 0,
    "hideHardwareSpecs": false,
    "memoryGiB": 64,
    "name": "ml.m5.4xlarge",
    "vcpuNum": 16
   },
   {
    "_defaultOrder": 8,
    "_isFastLaunch": false,
    "category": "General purpose",
    "gpuNum": 0,
    "hideHardwareSpecs": false,
    "memoryGiB": 128,
    "name": "ml.m5.8xlarge",
    "vcpuNum": 32
   },
   {
    "_defaultOrder": 9,
    "_isFastLaunch": false,
    "category": "General purpose",
    "gpuNum": 0,
    "hideHardwareSpecs": false,
    "memoryGiB": 192,
    "name": "ml.m5.12xlarge",
    "vcpuNum": 48
   },
   {
    "_defaultOrder": 10,
    "_isFastLaunch": false,
    "category": "General purpose",
    "gpuNum": 0,
    "hideHardwareSpecs": false,
    "memoryGiB": 256,
    "name": "ml.m5.16xlarge",
    "vcpuNum": 64
   },
   {
    "_defaultOrder": 11,
    "_isFastLaunch": false,
    "category": "General purpose",
    "gpuNum": 0,
    "hideHardwareSpecs": false,
    "memoryGiB": 384,
    "name": "ml.m5.24xlarge",
    "vcpuNum": 96
   },
   {
    "_defaultOrder": 12,
    "_isFastLaunch": false,
    "category": "General purpose",
    "gpuNum": 0,
    "hideHardwareSpecs": false,
    "memoryGiB": 8,
    "name": "ml.m5d.large",
    "vcpuNum": 2
   },
   {
    "_defaultOrder": 13,
    "_isFastLaunch": false,
    "category": "General purpose",
    "gpuNum": 0,
    "hideHardwareSpecs": false,
    "memoryGiB": 16,
    "name": "ml.m5d.xlarge",
    "vcpuNum": 4
   },
   {
    "_defaultOrder": 14,
    "_isFastLaunch": false,
    "category": "General purpose",
    "gpuNum": 0,
    "hideHardwareSpecs": false,
    "memoryGiB": 32,
    "name": "ml.m5d.2xlarge",
    "vcpuNum": 8
   },
   {
    "_defaultOrder": 15,
    "_isFastLaunch": false,
    "category": "General purpose",
    "gpuNum": 0,
    "hideHardwareSpecs": false,
    "memoryGiB": 64,
    "name": "ml.m5d.4xlarge",
    "vcpuNum": 16
   },
   {
    "_defaultOrder": 16,
    "_isFastLaunch": false,
    "category": "General purpose",
    "gpuNum": 0,
    "hideHardwareSpecs": false,
    "memoryGiB": 128,
    "name": "ml.m5d.8xlarge",
    "vcpuNum": 32
   },
   {
    "_defaultOrder": 17,
    "_isFastLaunch": false,
    "category": "General purpose",
    "gpuNum": 0,
    "hideHardwareSpecs": false,
    "memoryGiB": 192,
    "name": "ml.m5d.12xlarge",
    "vcpuNum": 48
   },
   {
    "_defaultOrder": 18,
    "_isFastLaunch": false,
    "category": "General purpose",
    "gpuNum": 0,
    "hideHardwareSpecs": false,
    "memoryGiB": 256,
    "name": "ml.m5d.16xlarge",
    "vcpuNum": 64
   },
   {
    "_defaultOrder": 19,
    "_isFastLaunch": false,
    "category": "General purpose",
    "gpuNum": 0,
    "hideHardwareSpecs": false,
    "memoryGiB": 384,
    "name": "ml.m5d.24xlarge",
    "vcpuNum": 96
   },
   {
    "_defaultOrder": 20,
    "_isFastLaunch": false,
    "category": "General purpose",
    "gpuNum": 0,
    "hideHardwareSpecs": true,
    "memoryGiB": 0,
    "name": "ml.geospatial.interactive",
    "supportedImageNames": [
     "sagemaker-geospatial-v1-0"
    ],
    "vcpuNum": 0
   },
   {
    "_defaultOrder": 21,
    "_isFastLaunch": true,
    "category": "Compute optimized",
    "gpuNum": 0,
    "hideHardwareSpecs": false,
    "memoryGiB": 4,
    "name": "ml.c5.large",
    "vcpuNum": 2
   },
   {
    "_defaultOrder": 22,
    "_isFastLaunch": false,
    "category": "Compute optimized",
    "gpuNum": 0,
    "hideHardwareSpecs": false,
    "memoryGiB": 8,
    "name": "ml.c5.xlarge",
    "vcpuNum": 4
   },
   {
    "_defaultOrder": 23,
    "_isFastLaunch": false,
    "category": "Compute optimized",
    "gpuNum": 0,
    "hideHardwareSpecs": false,
    "memoryGiB": 16,
    "name": "ml.c5.2xlarge",
    "vcpuNum": 8
   },
   {
    "_defaultOrder": 24,
    "_isFastLaunch": false,
    "category": "Compute optimized",
    "gpuNum": 0,
    "hideHardwareSpecs": false,
    "memoryGiB": 32,
    "name": "ml.c5.4xlarge",
    "vcpuNum": 16
   },
   {
    "_defaultOrder": 25,
    "_isFastLaunch": false,
    "category": "Compute optimized",
    "gpuNum": 0,
    "hideHardwareSpecs": false,
    "memoryGiB": 72,
    "name": "ml.c5.9xlarge",
    "vcpuNum": 36
   },
   {
    "_defaultOrder": 26,
    "_isFastLaunch": false,
    "category": "Compute optimized",
    "gpuNum": 0,
    "hideHardwareSpecs": false,
    "memoryGiB": 96,
    "name": "ml.c5.12xlarge",
    "vcpuNum": 48
   },
   {
    "_defaultOrder": 27,
    "_isFastLaunch": false,
    "category": "Compute optimized",
    "gpuNum": 0,
    "hideHardwareSpecs": false,
    "memoryGiB": 144,
    "name": "ml.c5.18xlarge",
    "vcpuNum": 72
   },
   {
    "_defaultOrder": 28,
    "_isFastLaunch": false,
    "category": "Compute optimized",
    "gpuNum": 0,
    "hideHardwareSpecs": false,
    "memoryGiB": 192,
    "name": "ml.c5.24xlarge",
    "vcpuNum": 96
   },
   {
    "_defaultOrder": 29,
    "_isFastLaunch": true,
    "category": "Accelerated computing",
    "gpuNum": 1,
    "hideHardwareSpecs": false,
    "memoryGiB": 16,
    "name": "ml.g4dn.xlarge",
    "vcpuNum": 4
   },
   {
    "_defaultOrder": 30,
    "_isFastLaunch": false,
    "category": "Accelerated computing",
    "gpuNum": 1,
    "hideHardwareSpecs": false,
    "memoryGiB": 32,
    "name": "ml.g4dn.2xlarge",
    "vcpuNum": 8
   },
   {
    "_defaultOrder": 31,
    "_isFastLaunch": false,
    "category": "Accelerated computing",
    "gpuNum": 1,
    "hideHardwareSpecs": false,
    "memoryGiB": 64,
    "name": "ml.g4dn.4xlarge",
    "vcpuNum": 16
   },
   {
    "_defaultOrder": 32,
    "_isFastLaunch": false,
    "category": "Accelerated computing",
    "gpuNum": 1,
    "hideHardwareSpecs": false,
    "memoryGiB": 128,
    "name": "ml.g4dn.8xlarge",
    "vcpuNum": 32
   },
   {
    "_defaultOrder": 33,
    "_isFastLaunch": false,
    "category": "Accelerated computing",
    "gpuNum": 4,
    "hideHardwareSpecs": false,
    "memoryGiB": 192,
    "name": "ml.g4dn.12xlarge",
    "vcpuNum": 48
   },
   {
    "_defaultOrder": 34,
    "_isFastLaunch": false,
    "category": "Accelerated computing",
    "gpuNum": 1,
    "hideHardwareSpecs": false,
    "memoryGiB": 256,
    "name": "ml.g4dn.16xlarge",
    "vcpuNum": 64
   },
   {
    "_defaultOrder": 35,
    "_isFastLaunch": false,
    "category": "Accelerated computing",
    "gpuNum": 1,
    "hideHardwareSpecs": false,
    "memoryGiB": 61,
    "name": "ml.p3.2xlarge",
    "vcpuNum": 8
   },
   {
    "_defaultOrder": 36,
    "_isFastLaunch": false,
    "category": "Accelerated computing",
    "gpuNum": 4,
    "hideHardwareSpecs": false,
    "memoryGiB": 244,
    "name": "ml.p3.8xlarge",
    "vcpuNum": 32
   },
   {
    "_defaultOrder": 37,
    "_isFastLaunch": false,
    "category": "Accelerated computing",
    "gpuNum": 8,
    "hideHardwareSpecs": false,
    "memoryGiB": 488,
    "name": "ml.p3.16xlarge",
    "vcpuNum": 64
   },
   {
    "_defaultOrder": 38,
    "_isFastLaunch": false,
    "category": "Accelerated computing",
    "gpuNum": 8,
    "hideHardwareSpecs": false,
    "memoryGiB": 768,
    "name": "ml.p3dn.24xlarge",
    "vcpuNum": 96
   },
   {
    "_defaultOrder": 39,
    "_isFastLaunch": false,
    "category": "Memory Optimized",
    "gpuNum": 0,
    "hideHardwareSpecs": false,
    "memoryGiB": 16,
    "name": "ml.r5.large",
    "vcpuNum": 2
   },
   {
    "_defaultOrder": 40,
    "_isFastLaunch": false,
    "category": "Memory Optimized",
    "gpuNum": 0,
    "hideHardwareSpecs": false,
    "memoryGiB": 32,
    "name": "ml.r5.xlarge",
    "vcpuNum": 4
   },
   {
    "_defaultOrder": 41,
    "_isFastLaunch": false,
    "category": "Memory Optimized",
    "gpuNum": 0,
    "hideHardwareSpecs": false,
    "memoryGiB": 64,
    "name": "ml.r5.2xlarge",
    "vcpuNum": 8
   },
   {
    "_defaultOrder": 42,
    "_isFastLaunch": false,
    "category": "Memory Optimized",
    "gpuNum": 0,
    "hideHardwareSpecs": false,
    "memoryGiB": 128,
    "name": "ml.r5.4xlarge",
    "vcpuNum": 16
   },
   {
    "_defaultOrder": 43,
    "_isFastLaunch": false,
    "category": "Memory Optimized",
    "gpuNum": 0,
    "hideHardwareSpecs": false,
    "memoryGiB": 256,
    "name": "ml.r5.8xlarge",
    "vcpuNum": 32
   },
   {
    "_defaultOrder": 44,
    "_isFastLaunch": false,
    "category": "Memory Optimized",
    "gpuNum": 0,
    "hideHardwareSpecs": false,
    "memoryGiB": 384,
    "name": "ml.r5.12xlarge",
    "vcpuNum": 48
   },
   {
    "_defaultOrder": 45,
    "_isFastLaunch": false,
    "category": "Memory Optimized",
    "gpuNum": 0,
    "hideHardwareSpecs": false,
    "memoryGiB": 512,
    "name": "ml.r5.16xlarge",
    "vcpuNum": 64
   },
   {
    "_defaultOrder": 46,
    "_isFastLaunch": false,
    "category": "Memory Optimized",
    "gpuNum": 0,
    "hideHardwareSpecs": false,
    "memoryGiB": 768,
    "name": "ml.r5.24xlarge",
    "vcpuNum": 96
   },
   {
    "_defaultOrder": 47,
    "_isFastLaunch": false,
    "category": "Accelerated computing",
    "gpuNum": 1,
    "hideHardwareSpecs": false,
    "memoryGiB": 16,
    "name": "ml.g5.xlarge",
    "vcpuNum": 4
   },
   {
    "_defaultOrder": 48,
    "_isFastLaunch": false,
    "category": "Accelerated computing",
    "gpuNum": 1,
    "hideHardwareSpecs": false,
    "memoryGiB": 32,
    "name": "ml.g5.2xlarge",
    "vcpuNum": 8
   },
   {
    "_defaultOrder": 49,
    "_isFastLaunch": false,
    "category": "Accelerated computing",
    "gpuNum": 1,
    "hideHardwareSpecs": false,
    "memoryGiB": 64,
    "name": "ml.g5.4xlarge",
    "vcpuNum": 16
   },
   {
    "_defaultOrder": 50,
    "_isFastLaunch": false,
    "category": "Accelerated computing",
    "gpuNum": 1,
    "hideHardwareSpecs": false,
    "memoryGiB": 128,
    "name": "ml.g5.8xlarge",
    "vcpuNum": 32
   },
   {
    "_defaultOrder": 51,
    "_isFastLaunch": false,
    "category": "Accelerated computing",
    "gpuNum": 1,
    "hideHardwareSpecs": false,
    "memoryGiB": 256,
    "name": "ml.g5.16xlarge",
    "vcpuNum": 64
   },
   {
    "_defaultOrder": 52,
    "_isFastLaunch": false,
    "category": "Accelerated computing",
    "gpuNum": 4,
    "hideHardwareSpecs": false,
    "memoryGiB": 192,
    "name": "ml.g5.12xlarge",
    "vcpuNum": 48
   },
   {
    "_defaultOrder": 53,
    "_isFastLaunch": false,
    "category": "Accelerated computing",
    "gpuNum": 4,
    "hideHardwareSpecs": false,
    "memoryGiB": 384,
    "name": "ml.g5.24xlarge",
    "vcpuNum": 96
   },
   {
    "_defaultOrder": 54,
    "_isFastLaunch": false,
    "category": "Accelerated computing",
    "gpuNum": 8,
    "hideHardwareSpecs": false,
    "memoryGiB": 768,
    "name": "ml.g5.48xlarge",
    "vcpuNum": 192
   },
   {
    "_defaultOrder": 55,
    "_isFastLaunch": false,
    "category": "Accelerated computing",
    "gpuNum": 8,
    "hideHardwareSpecs": false,
    "memoryGiB": 1152,
    "name": "ml.p4d.24xlarge",
    "vcpuNum": 96
   },
   {
    "_defaultOrder": 56,
    "_isFastLaunch": false,
    "category": "Accelerated computing",
    "gpuNum": 8,
    "hideHardwareSpecs": false,
    "memoryGiB": 1152,
    "name": "ml.p4de.24xlarge",
    "vcpuNum": 96
   },
   {
    "_defaultOrder": 57,
    "_isFastLaunch": false,
    "category": "Accelerated computing",
    "gpuNum": 0,
    "hideHardwareSpecs": false,
    "memoryGiB": 32,
    "name": "ml.trn1.2xlarge",
    "vcpuNum": 8
   },
   {
    "_defaultOrder": 58,
    "_isFastLaunch": false,
    "category": "Accelerated computing",
    "gpuNum": 0,
    "hideHardwareSpecs": false,
    "memoryGiB": 512,
    "name": "ml.trn1.32xlarge",
    "vcpuNum": 128
   },
   {
    "_defaultOrder": 59,
    "_isFastLaunch": false,
    "category": "Accelerated computing",
    "gpuNum": 0,
    "hideHardwareSpecs": false,
    "memoryGiB": 512,
    "name": "ml.trn1n.32xlarge",
    "vcpuNum": 128
   }
  ],
  "instance_type": "ml.t3.medium",
  "kernelspec": {
   "display_name": "Python 3 (Data Science 3.0)",
   "language": "python",
   "name": "python3__SAGEMAKER_INTERNAL__arn:aws:sagemaker:us-east-1:081325390199:image/sagemaker-data-science-310-v1"
  },
  "language_info": {
   "codemirror_mode": {
    "name": "ipython",
    "version": 3
   },
   "file_extension": ".py",
   "mimetype": "text/x-python",
   "name": "python",
   "nbconvert_exporter": "python",
   "pygments_lexer": "ipython3",
   "version": "3.10.6"
  }
 },
 "nbformat": 4,
 "nbformat_minor": 5
}
